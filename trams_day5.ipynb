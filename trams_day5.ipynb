{
 "cells": [
  {
   "cell_type": "code",
   "execution_count": 2,
   "metadata": {},
   "outputs": [],
   "source": [
    "import pandas as pd\n",
    "import numpy as np\n",
    "from sklearn.tree import DecisionTreeRegressor\n",
    "from sklearn.ensemble import RandomForestRegressor\n",
    "from sklearn.model_selection import cross_val_score\n",
    "%matplotlib inline"
   ]
  },
  {
   "cell_type": "code",
   "execution_count": 5,
   "metadata": {},
   "outputs": [
    {
     "data": {
      "text/html": [
       "<div>\n",
       "<style scoped>\n",
       "    .dataframe tbody tr th:only-of-type {\n",
       "        vertical-align: middle;\n",
       "    }\n",
       "\n",
       "    .dataframe tbody tr th {\n",
       "        vertical-align: top;\n",
       "    }\n",
       "\n",
       "    .dataframe thead th {\n",
       "        text-align: right;\n",
       "    }\n",
       "</style>\n",
       "<table border=\"1\" class=\"dataframe\">\n",
       "  <thead>\n",
       "    <tr style=\"text-align: right;\">\n",
       "      <th></th>\n",
       "      <th>index</th>\n",
       "      <th>time_stamp</th>\n",
       "      <th>stop</th>\n",
       "      <th>stopName</th>\n",
       "      <th>number</th>\n",
       "      <th>direction</th>\n",
       "      <th>plannedTime</th>\n",
       "      <th>vehicleId</th>\n",
       "      <th>tripId</th>\n",
       "      <th>status</th>\n",
       "      <th>delay</th>\n",
       "      <th>seq_num</th>\n",
       "    </tr>\n",
       "  </thead>\n",
       "  <tbody>\n",
       "    <tr>\n",
       "      <th>0</th>\n",
       "      <td>1</td>\n",
       "      <td>2018-07-23 06:00:45</td>\n",
       "      <td>378</td>\n",
       "      <td>Os.Piastów</td>\n",
       "      <td>21</td>\n",
       "      <td>Kopiec Wandy</td>\n",
       "      <td>2018-07-23 05:59:00</td>\n",
       "      <td>NaN</td>\n",
       "      <td>6351558574044883205</td>\n",
       "      <td>PLANNED</td>\n",
       "      <td>1</td>\n",
       "      <td>1.0</td>\n",
       "    </tr>\n",
       "    <tr>\n",
       "      <th>1</th>\n",
       "      <td>1</td>\n",
       "      <td>2018-07-23 06:00:47</td>\n",
       "      <td>612</td>\n",
       "      <td>Borsucza</td>\n",
       "      <td>22</td>\n",
       "      <td>Walcownia</td>\n",
       "      <td>2018-07-23 06:00:00</td>\n",
       "      <td>6.352185e+18</td>\n",
       "      <td>6351558574044899587</td>\n",
       "      <td>STOPPING</td>\n",
       "      <td>0</td>\n",
       "      <td>7.0</td>\n",
       "    </tr>\n",
       "    <tr>\n",
       "      <th>2</th>\n",
       "      <td>1</td>\n",
       "      <td>2018-07-23 06:00:48</td>\n",
       "      <td>572</td>\n",
       "      <td>Smolki</td>\n",
       "      <td>11</td>\n",
       "      <td>Czerwone Maki P+R</td>\n",
       "      <td>2018-07-23 06:00:00</td>\n",
       "      <td>6.352185e+18</td>\n",
       "      <td>6351558574044670211</td>\n",
       "      <td>STOPPING</td>\n",
       "      <td>0</td>\n",
       "      <td>10.0</td>\n",
       "    </tr>\n",
       "    <tr>\n",
       "      <th>3</th>\n",
       "      <td>1</td>\n",
       "      <td>2018-07-23 06:00:49</td>\n",
       "      <td>319</td>\n",
       "      <td>Jubilat</td>\n",
       "      <td>1</td>\n",
       "      <td>Wzgórza K.</td>\n",
       "      <td>2018-07-23 05:59:00</td>\n",
       "      <td>NaN</td>\n",
       "      <td>6351558574044363010</td>\n",
       "      <td>PLANNED</td>\n",
       "      <td>1</td>\n",
       "      <td>3.0</td>\n",
       "    </tr>\n",
       "    <tr>\n",
       "      <th>4</th>\n",
       "      <td>1</td>\n",
       "      <td>2018-07-23 06:00:49</td>\n",
       "      <td>322</td>\n",
       "      <td>Filharmonia</td>\n",
       "      <td>8</td>\n",
       "      <td>Bronowice Małe</td>\n",
       "      <td>2018-07-23 06:01:00</td>\n",
       "      <td>6.352185e+18</td>\n",
       "      <td>6351558574044592386</td>\n",
       "      <td>STOPPING</td>\n",
       "      <td>0</td>\n",
       "      <td>15.0</td>\n",
       "    </tr>\n",
       "  </tbody>\n",
       "</table>\n",
       "</div>"
      ],
      "text/plain": [
       "   index           time_stamp  stop     stopName  number          direction  \\\n",
       "0      1  2018-07-23 06:00:45   378   Os.Piastów      21       Kopiec Wandy   \n",
       "1      1  2018-07-23 06:00:47   612     Borsucza      22          Walcownia   \n",
       "2      1  2018-07-23 06:00:48   572       Smolki      11  Czerwone Maki P+R   \n",
       "3      1  2018-07-23 06:00:49   319      Jubilat       1         Wzgórza K.   \n",
       "4      1  2018-07-23 06:00:49   322  Filharmonia       8     Bronowice Małe   \n",
       "\n",
       "           plannedTime     vehicleId               tripId    status  delay  \\\n",
       "0  2018-07-23 05:59:00           NaN  6351558574044883205   PLANNED      1   \n",
       "1  2018-07-23 06:00:00  6.352185e+18  6351558574044899587  STOPPING      0   \n",
       "2  2018-07-23 06:00:00  6.352185e+18  6351558574044670211  STOPPING      0   \n",
       "3  2018-07-23 05:59:00           NaN  6351558574044363010   PLANNED      1   \n",
       "4  2018-07-23 06:01:00  6.352185e+18  6351558574044592386  STOPPING      0   \n",
       "\n",
       "   seq_num  \n",
       "0      1.0  \n",
       "1      7.0  \n",
       "2     10.0  \n",
       "3      3.0  \n",
       "4     15.0  "
      ]
     },
     "execution_count": 5,
     "metadata": {},
     "output_type": "execute_result"
    }
   ],
   "source": [
    "df = pd.read_csv(\"https://raw.githubusercontent.com/aczepielik/KRKtram/master/reports/report_07-23.csv\")\n",
    "df.head()"
   ]
  },
  {
   "cell_type": "code",
   "execution_count": 7,
   "metadata": {},
   "outputs": [
    {
     "data": {
      "text/html": [
       "<div>\n",
       "<style scoped>\n",
       "    .dataframe tbody tr th:only-of-type {\n",
       "        vertical-align: middle;\n",
       "    }\n",
       "\n",
       "    .dataframe tbody tr th {\n",
       "        vertical-align: top;\n",
       "    }\n",
       "\n",
       "    .dataframe thead th {\n",
       "        text-align: right;\n",
       "    }\n",
       "</style>\n",
       "<table border=\"1\" class=\"dataframe\">\n",
       "  <thead>\n",
       "    <tr style=\"text-align: right;\">\n",
       "      <th></th>\n",
       "      <th>index</th>\n",
       "      <th>time_stamp</th>\n",
       "      <th>stop</th>\n",
       "      <th>stopName</th>\n",
       "      <th>number</th>\n",
       "      <th>direction</th>\n",
       "      <th>plannedTime</th>\n",
       "      <th>vehicleId</th>\n",
       "      <th>tripId</th>\n",
       "      <th>status</th>\n",
       "      <th>delay</th>\n",
       "      <th>seq_num</th>\n",
       "    </tr>\n",
       "  </thead>\n",
       "  <tbody>\n",
       "    <tr>\n",
       "      <th>0</th>\n",
       "      <td>1</td>\n",
       "      <td>2018-07-23 06:00:45</td>\n",
       "      <td>378</td>\n",
       "      <td>Os.Piastów</td>\n",
       "      <td>21</td>\n",
       "      <td>Kopiec Wandy</td>\n",
       "      <td>2018-07-23 05:59:00</td>\n",
       "      <td>NaN</td>\n",
       "      <td>6351558574044883205</td>\n",
       "      <td>PLANNED</td>\n",
       "      <td>1</td>\n",
       "      <td>1.0</td>\n",
       "    </tr>\n",
       "    <tr>\n",
       "      <th>70</th>\n",
       "      <td>3</td>\n",
       "      <td>2018-07-23 06:01:42</td>\n",
       "      <td>379</td>\n",
       "      <td>Piasta Kołodzieja</td>\n",
       "      <td>21</td>\n",
       "      <td>Kopiec Wandy</td>\n",
       "      <td>2018-07-23 06:00:00</td>\n",
       "      <td>NaN</td>\n",
       "      <td>6351558574044883205</td>\n",
       "      <td>PLANNED</td>\n",
       "      <td>1</td>\n",
       "      <td>2.0</td>\n",
       "    </tr>\n",
       "    <tr>\n",
       "      <th>135</th>\n",
       "      <td>6</td>\n",
       "      <td>2018-07-23 06:02:46</td>\n",
       "      <td>382</td>\n",
       "      <td>Kleeberga</td>\n",
       "      <td>21</td>\n",
       "      <td>Kopiec Wandy</td>\n",
       "      <td>2018-07-23 06:01:00</td>\n",
       "      <td>NaN</td>\n",
       "      <td>6351558574044883205</td>\n",
       "      <td>PLANNED</td>\n",
       "      <td>1</td>\n",
       "      <td>3.0</td>\n",
       "    </tr>\n",
       "    <tr>\n",
       "      <th>284</th>\n",
       "      <td>12</td>\n",
       "      <td>2018-07-23 06:04:54</td>\n",
       "      <td>388</td>\n",
       "      <td>Dunikowskiego</td>\n",
       "      <td>21</td>\n",
       "      <td>Kopiec Wandy</td>\n",
       "      <td>2018-07-23 06:03:00</td>\n",
       "      <td>NaN</td>\n",
       "      <td>6351558574044883205</td>\n",
       "      <td>PLANNED</td>\n",
       "      <td>1</td>\n",
       "      <td>4.0</td>\n",
       "    </tr>\n",
       "    <tr>\n",
       "      <th>414</th>\n",
       "      <td>17</td>\n",
       "      <td>2018-07-23 06:06:40</td>\n",
       "      <td>2539</td>\n",
       "      <td>Rondo Hipokratesa</td>\n",
       "      <td>21</td>\n",
       "      <td>Kopiec Wandy</td>\n",
       "      <td>2018-07-23 06:05:00</td>\n",
       "      <td>NaN</td>\n",
       "      <td>6351558574044883205</td>\n",
       "      <td>PLANNED</td>\n",
       "      <td>1</td>\n",
       "      <td>5.0</td>\n",
       "    </tr>\n",
       "    <tr>\n",
       "      <th>493</th>\n",
       "      <td>20</td>\n",
       "      <td>2018-07-23 06:07:43</td>\n",
       "      <td>392</td>\n",
       "      <td>DH Wanda</td>\n",
       "      <td>21</td>\n",
       "      <td>Kopiec Wandy</td>\n",
       "      <td>2018-07-23 06:06:00</td>\n",
       "      <td>NaN</td>\n",
       "      <td>6351558574044883205</td>\n",
       "      <td>PLANNED</td>\n",
       "      <td>1</td>\n",
       "      <td>6.0</td>\n",
       "    </tr>\n",
       "    <tr>\n",
       "      <th>697</th>\n",
       "      <td>28</td>\n",
       "      <td>2018-07-23 06:10:39</td>\n",
       "      <td>2745</td>\n",
       "      <td>Rondo Kocmyrzowskie im. Ks. Gorzelanego</td>\n",
       "      <td>21</td>\n",
       "      <td>Kopiec Wandy</td>\n",
       "      <td>2018-07-23 06:09:00</td>\n",
       "      <td>NaN</td>\n",
       "      <td>6351558574044883205</td>\n",
       "      <td>PLANNED</td>\n",
       "      <td>1</td>\n",
       "      <td>7.0</td>\n",
       "    </tr>\n",
       "    <tr>\n",
       "      <th>772</th>\n",
       "      <td>31</td>\n",
       "      <td>2018-07-23 06:11:43</td>\n",
       "      <td>418</td>\n",
       "      <td>Os.Zgody</td>\n",
       "      <td>21</td>\n",
       "      <td>Kopiec Wandy</td>\n",
       "      <td>2018-07-23 06:10:00</td>\n",
       "      <td>NaN</td>\n",
       "      <td>6351558574044883205</td>\n",
       "      <td>PLANNED</td>\n",
       "      <td>1</td>\n",
       "      <td>8.0</td>\n",
       "    </tr>\n",
       "    <tr>\n",
       "      <th>1007</th>\n",
       "      <td>40</td>\n",
       "      <td>2018-07-23 06:14:58</td>\n",
       "      <td>2744</td>\n",
       "      <td>Plac Centralny im. R.Reagana</td>\n",
       "      <td>21</td>\n",
       "      <td>Kopiec Wandy</td>\n",
       "      <td>2018-07-23 06:13:00</td>\n",
       "      <td>NaN</td>\n",
       "      <td>6351558574044883205</td>\n",
       "      <td>PLANNED</td>\n",
       "      <td>1</td>\n",
       "      <td>9.0</td>\n",
       "    </tr>\n",
       "    <tr>\n",
       "      <th>1137</th>\n",
       "      <td>45</td>\n",
       "      <td>2018-07-23 06:16:49</td>\n",
       "      <td>423</td>\n",
       "      <td>Struga</td>\n",
       "      <td>21</td>\n",
       "      <td>Kopiec Wandy</td>\n",
       "      <td>2018-07-23 06:15:00</td>\n",
       "      <td>NaN</td>\n",
       "      <td>6351558574044883205</td>\n",
       "      <td>PLANNED</td>\n",
       "      <td>1</td>\n",
       "      <td>10.0</td>\n",
       "    </tr>\n",
       "    <tr>\n",
       "      <th>1561</th>\n",
       "      <td>61</td>\n",
       "      <td>2018-07-23 06:22:46</td>\n",
       "      <td>459</td>\n",
       "      <td>Kombinat</td>\n",
       "      <td>21</td>\n",
       "      <td>Kopiec Wandy</td>\n",
       "      <td>2018-07-23 06:21:00</td>\n",
       "      <td>NaN</td>\n",
       "      <td>6351558574044883205</td>\n",
       "      <td>PLANNED</td>\n",
       "      <td>1</td>\n",
       "      <td>11.0</td>\n",
       "    </tr>\n",
       "  </tbody>\n",
       "</table>\n",
       "</div>"
      ],
      "text/plain": [
       "      index           time_stamp  stop  \\\n",
       "0         1  2018-07-23 06:00:45   378   \n",
       "70        3  2018-07-23 06:01:42   379   \n",
       "135       6  2018-07-23 06:02:46   382   \n",
       "284      12  2018-07-23 06:04:54   388   \n",
       "414      17  2018-07-23 06:06:40  2539   \n",
       "493      20  2018-07-23 06:07:43   392   \n",
       "697      28  2018-07-23 06:10:39  2745   \n",
       "772      31  2018-07-23 06:11:43   418   \n",
       "1007     40  2018-07-23 06:14:58  2744   \n",
       "1137     45  2018-07-23 06:16:49   423   \n",
       "1561     61  2018-07-23 06:22:46   459   \n",
       "\n",
       "                                     stopName  number     direction  \\\n",
       "0                                  Os.Piastów      21  Kopiec Wandy   \n",
       "70                          Piasta Kołodzieja      21  Kopiec Wandy   \n",
       "135                                 Kleeberga      21  Kopiec Wandy   \n",
       "284                             Dunikowskiego      21  Kopiec Wandy   \n",
       "414                         Rondo Hipokratesa      21  Kopiec Wandy   \n",
       "493                                  DH Wanda      21  Kopiec Wandy   \n",
       "697   Rondo Kocmyrzowskie im. Ks. Gorzelanego      21  Kopiec Wandy   \n",
       "772                                  Os.Zgody      21  Kopiec Wandy   \n",
       "1007             Plac Centralny im. R.Reagana      21  Kopiec Wandy   \n",
       "1137                                   Struga      21  Kopiec Wandy   \n",
       "1561                                 Kombinat      21  Kopiec Wandy   \n",
       "\n",
       "              plannedTime  vehicleId               tripId   status  delay  \\\n",
       "0     2018-07-23 05:59:00        NaN  6351558574044883205  PLANNED      1   \n",
       "70    2018-07-23 06:00:00        NaN  6351558574044883205  PLANNED      1   \n",
       "135   2018-07-23 06:01:00        NaN  6351558574044883205  PLANNED      1   \n",
       "284   2018-07-23 06:03:00        NaN  6351558574044883205  PLANNED      1   \n",
       "414   2018-07-23 06:05:00        NaN  6351558574044883205  PLANNED      1   \n",
       "493   2018-07-23 06:06:00        NaN  6351558574044883205  PLANNED      1   \n",
       "697   2018-07-23 06:09:00        NaN  6351558574044883205  PLANNED      1   \n",
       "772   2018-07-23 06:10:00        NaN  6351558574044883205  PLANNED      1   \n",
       "1007  2018-07-23 06:13:00        NaN  6351558574044883205  PLANNED      1   \n",
       "1137  2018-07-23 06:15:00        NaN  6351558574044883205  PLANNED      1   \n",
       "1561  2018-07-23 06:21:00        NaN  6351558574044883205  PLANNED      1   \n",
       "\n",
       "      seq_num  \n",
       "0         1.0  \n",
       "70        2.0  \n",
       "135       3.0  \n",
       "284       4.0  \n",
       "414       5.0  \n",
       "493       6.0  \n",
       "697       7.0  \n",
       "772       8.0  \n",
       "1007      9.0  \n",
       "1137     10.0  \n",
       "1561     11.0  "
      ]
     },
     "execution_count": 7,
     "metadata": {},
     "output_type": "execute_result"
    }
   ],
   "source": [
    "df[df.tripId == 6351558574044883205]"
   ]
  },
  {
   "cell_type": "code",
   "execution_count": 8,
   "metadata": {},
   "outputs": [
    {
     "data": {
      "text/plain": [
       "0     30531\n",
       "1     24653\n",
       "2      8833\n",
       "3      4004\n",
       "4      1818\n",
       "5       816\n",
       "6       347\n",
       "7       190\n",
       "8        85\n",
       "9        62\n",
       "10       42\n",
       "14       36\n",
       "12       34\n",
       "11       25\n",
       "13       24\n",
       "15       11\n",
       "16        3\n",
       "19        2\n",
       "18        1\n",
       "Name: delay, dtype: int64"
      ]
     },
     "execution_count": 8,
     "metadata": {},
     "output_type": "execute_result"
    }
   ],
   "source": [
    "df.delay.value_counts()"
   ]
  },
  {
   "cell_type": "code",
   "execution_count": 9,
   "metadata": {},
   "outputs": [
    {
     "data": {
      "text/plain": [
       "0     0.426905\n",
       "1     0.344715\n",
       "2     0.123509\n",
       "3     0.055987\n",
       "4     0.025421\n",
       "5     0.011410\n",
       "6     0.004852\n",
       "7     0.002657\n",
       "8     0.001189\n",
       "9     0.000867\n",
       "10    0.000587\n",
       "14    0.000503\n",
       "12    0.000475\n",
       "11    0.000350\n",
       "13    0.000336\n",
       "15    0.000154\n",
       "16    0.000042\n",
       "19    0.000028\n",
       "18    0.000014\n",
       "Name: delay, dtype: float64"
      ]
     },
     "execution_count": 9,
     "metadata": {},
     "output_type": "execute_result"
    }
   ],
   "source": [
    "df.delay.value_counts(normalize = True)"
   ]
  },
  {
   "cell_type": "code",
   "execution_count": 10,
   "metadata": {},
   "outputs": [
    {
     "data": {
      "image/png": "[encoded data removed]",
      "text/plain": [
       "<Figure size 432x288 with 1 Axes>"
      ]
     },
     "metadata": {
      "needs_background": "light"
     },
     "output_type": "display_data"
    }
   ],
   "source": [
    "df.delay.hist();"
   ]
  },
  {
   "cell_type": "code",
   "execution_count": 11,
   "metadata": {},
   "outputs": [
    {
     "data": {
      "image/png": "[encoded data removed]",
      "text/plain": [
       "<Figure size 432x288 with 1 Axes>"
      ]
     },
     "metadata": {
      "needs_background": "light"
     },
     "output_type": "display_data"
    }
   ],
   "source": [
    "df.delay.hist(bins = 15);"
   ]
  },
  {
   "cell_type": "code",
   "execution_count": 12,
   "metadata": {},
   "outputs": [
    {
     "data": {
      "text/plain": [
       "count    71517.000000\n",
       "mean         1.014039\n",
       "std          1.357324\n",
       "min          0.000000\n",
       "25%          0.000000\n",
       "50%          1.000000\n",
       "75%          1.000000\n",
       "max         19.000000\n",
       "Name: delay, dtype: float64"
      ]
     },
     "execution_count": 12,
     "metadata": {},
     "output_type": "execute_result"
    }
   ],
   "source": [
    "# long tail\n",
    "df.delay.describe()"
   ]
  },
  {
   "cell_type": "code",
   "execution_count": 13,
   "metadata": {},
   "outputs": [
    {
     "data": {
      "text/plain": [
       "Index(['index', 'time_stamp', 'stop', 'stopName', 'number', 'direction',\n",
       "       'plannedTime', 'vehicleId', 'tripId', 'status', 'delay', 'seq_num'],\n",
       "      dtype='object')"
      ]
     },
     "execution_count": 13,
     "metadata": {},
     "output_type": "execute_result"
    }
   ],
   "source": [
    "# suspicious features:\n",
    "## stop, number, direction\n",
    "\n",
    "df.columns"
   ]
  },
  {
   "cell_type": "code",
   "execution_count": 15,
   "metadata": {},
   "outputs": [
    {
     "data": {
      "text/plain": [
       "(-0.9127585343839395, 0.05389454602788386)"
      ]
     },
     "execution_count": 15,
     "metadata": {},
     "output_type": "execute_result"
    }
   ],
   "source": [
    "X = df[[\"number\"]].values\n",
    "y = df[\"delay\"].values\n",
    "model = DecisionTreeRegressor(max_depth = 10)\n",
    "scores = cross_val_score(model, X, y, cv = 3, \n",
    "                scoring = \"neg_mean_absolute_error\")\n",
    "np.mean(scores), np.std(scores)"
   ]
  },
  {
   "cell_type": "code",
   "execution_count": 18,
   "metadata": {},
   "outputs": [
    {
     "data": {
      "text/plain": [
       "(-54.76551206303637, 3.233672761673034)"
      ]
     },
     "execution_count": 18,
     "metadata": {},
     "output_type": "execute_result"
    }
   ],
   "source": [
    "# change from min to sec\n",
    "df[\"delay_secs\"] = df[\"delay\"].map(lambda x: x*60)\n",
    "X = df[[\"number\"]].values\n",
    "y = df[\"delay_secs\"].values\n",
    "model = DecisionTreeRegressor(max_depth = 10)\n",
    "scores = cross_val_score(model, X, y, cv = 3, \n",
    "                scoring = \"neg_mean_absolute_error\")\n",
    "np.mean(scores), np.std(scores)"
   ]
  },
  {
   "cell_type": "code",
   "execution_count": 19,
   "metadata": {},
   "outputs": [
    {
     "data": {
      "text/plain": [
       "(-53.08641170407217, 3.205098659540954)"
      ]
     },
     "execution_count": 19,
     "metadata": {},
     "output_type": "execute_result"
    }
   ],
   "source": [
    "df[\"delay_secs\"] = df[\"delay\"].map(lambda x: x*60)\n",
    "X = df[[\"number\", \"stop\"]].values\n",
    "y = df[\"delay_secs\"].values\n",
    "model = DecisionTreeRegressor(max_depth = 10)\n",
    "scores = cross_val_score(model, X, y, cv = 3, \n",
    "                scoring = \"neg_mean_absolute_error\")\n",
    "np.mean(scores), np.std(scores)"
   ]
  },
  {
   "cell_type": "code",
   "execution_count": 22,
   "metadata": {},
   "outputs": [
    {
     "data": {
      "text/plain": [
       "(-50.509485774561064, 3.16482686257641)"
      ]
     },
     "execution_count": 22,
     "metadata": {},
     "output_type": "execute_result"
    }
   ],
   "source": [
    "df[\"delay_secs\"] = df[\"delay\"].map(lambda x: x*60)\n",
    "df[\"direction_cat\"] = df[\"direction\"].factorize()[0]\n",
    "df[\"vehicleId\"].fillna(-1, inplace = True)\n",
    "\n",
    "X = df[[\"number\", \"stop\", \"direction_cat\", \"vehicleId\"]].values\n",
    "y = df[\"delay_secs\"].values\n",
    "model = DecisionTreeRegressor(max_depth = 10)\n",
    "scores = cross_val_score(model, X, y, cv = 3, \n",
    "                scoring = \"neg_mean_absolute_error\")\n",
    "np.mean(scores), np.std(scores)"
   ]
  },
  {
   "cell_type": "code",
   "execution_count": 27,
   "metadata": {},
   "outputs": [
    {
     "data": {
      "text/plain": [
       "(-47.29107380145768, 2.393605804549753)"
      ]
     },
     "execution_count": 27,
     "metadata": {},
     "output_type": "execute_result"
    }
   ],
   "source": [
    "df[\"delay_secs\"] = df[\"delay\"].map(lambda x: x*60)\n",
    "df[\"direction_cat\"] = df[\"direction\"].factorize()[0]\n",
    "df[\"vehicleId\"].fillna(-1, inplace = True)\n",
    "df[\"seq_num\"].fillna(-1, inplace = True)\n",
    "\n",
    "X = df[[\"number\", \"stop\", \"direction_cat\", \"vehicleId\", \n",
    "       \"seq_num\"]].values\n",
    "y = df[\"delay_secs\"].values\n",
    "model = DecisionTreeRegressor(max_depth = 15)\n",
    "scores = cross_val_score(model, X, y, cv = 3, \n",
    "                scoring = \"neg_mean_absolute_error\")\n",
    "np.mean(scores), np.std(scores)"
   ]
  },
  {
   "cell_type": "code",
   "execution_count": 32,
   "metadata": {},
   "outputs": [
    {
     "data": {
      "text/plain": [
       "(-48.28512051796977, 2.4843954844010345)"
      ]
     },
     "execution_count": 32,
     "metadata": {},
     "output_type": "execute_result"
    }
   ],
   "source": [
    "X = df[[\"number\", \"stop\", \"direction_cat\", \"vehicleId\", \n",
    "       \"seq_num\"]].values\n",
    "y = df[\"delay_secs\"].values\n",
    "model = RandomForestRegressor(max_depth = 10,\n",
    "                             n_estimators=50,\n",
    "                             n_jobs=8) #cores on my machine\n",
    "scores = cross_val_score(model, X, y, cv = 3, \n",
    "                scoring = \"neg_mean_absolute_error\")\n",
    "np.mean(scores), np.std(scores)"
   ]
  },
  {
   "cell_type": "code",
   "execution_count": 36,
   "metadata": {},
   "outputs": [
    {
     "data": {
      "text/plain": [
       "(-48.39929809353762, 2.495059659387999)"
      ]
     },
     "execution_count": 36,
     "metadata": {},
     "output_type": "execute_result"
    }
   ],
   "source": [
    "# new features:\n",
    "## tram number * direction\n",
    "## stop * direction\n",
    "\n",
    "df[\"num_dir_id\"] = df.apply(lambda x: \"{} {}\".format(x[\"number\"], x[\"direction\"]),\n",
    "         axis=1).factorize()[0]\n",
    "df[\"stop_dir_id\"] = df.apply(lambda x: \"{} {}\".format(x[\"stop\"], x[\"direction\"]),\n",
    "         axis=1).factorize()[0]\n",
    "\n",
    "feats = [\"number\", \"stop\", \"direction_cat\", \"vehicleId\", \n",
    "       \"seq_num\", \"num_dir_id\", \"stop_dir_id\"]\n",
    "X = df[feats].values\n",
    "y = df[\"delay_secs\"].values\n",
    "model = RandomForestRegressor(max_depth = 10,\n",
    "                             n_estimators=50,\n",
    "                             n_jobs=8) #cores on my machine\n",
    "scores = cross_val_score(model, X, y, cv = 3, \n",
    "                scoring = \"neg_mean_absolute_error\")\n",
    "np.mean(scores), np.std(scores)"
   ]
  },
  {
   "cell_type": "code",
   "execution_count": 40,
   "metadata": {},
   "outputs": [
    {
     "data": {
      "text/plain": [
       "(-48.911446275525776, 2.5252312592564357)"
      ]
     },
     "execution_count": 40,
     "metadata": {},
     "output_type": "execute_result"
    }
   ],
   "source": [
    "feats = [\"number\", \"stop\", \"direction_cat\", \"vehicleId\", \n",
    "       \"seq_num\", \"num_dir_id\", \"stop_dir_id\"]\n",
    "X = df[feats].values\n",
    "y = df[\"delay_secs\"].values\n",
    "model = DecisionTreeRegressor(max_depth = 10,\n",
    "                             random_state=0)#freeze randomness\n",
    "scores = cross_val_score(model, X, y, cv = 3, \n",
    "                scoring = \"neg_mean_absolute_error\")\n",
    "np.mean(scores), np.std(scores)"
   ]
  },
  {
   "cell_type": "code",
   "execution_count": 49,
   "metadata": {},
   "outputs": [
    {
     "name": "stdout",
     "output_type": "stream",
     "text": [
      "<class 'pandas.core.frame.DataFrame'>\n",
      "RangeIndex: 71517 entries, 0 to 71516\n",
      "Data columns (total 1 columns):\n",
      "plannedTime    71517 non-null datetime64[ns]\n",
      "dtypes: datetime64[ns](1)\n",
      "memory usage: 558.8 KB\n"
     ]
    }
   ],
   "source": [
    "# new feature - planned time at stop\n",
    "df[\"plannedTime\"] = pd.to_datetime(df[\"plannedTime\"])\n",
    "df[[\"plannedTime\"]].info()\n",
    "df[\"plannedTime\"].dt.hour.value_counts()\n",
    "# and hour\n",
    "df[\"hour\"] = df[\"plannedTime\"].dt.hour"
   ]
  },
  {
   "cell_type": "code",
   "execution_count": 53,
   "metadata": {},
   "outputs": [
    {
     "data": {
      "text/plain": [
       "(-52.77065500187765, 1.5171351033711182)"
      ]
     },
     "execution_count": 53,
     "metadata": {},
     "output_type": "execute_result"
    }
   ],
   "source": [
    "feats = [\"number\", \"stop\", \"direction_cat\", \"vehicleId\", \n",
    "       \"seq_num\", \"num_dir_id\", \"stop_dir_id\", \"hour\"]\n",
    "X = df[feats].values\n",
    "y = df[\"delay_secs\"].values\n",
    "model = RandomForestRegressor(max_depth = 10,\n",
    "                             random_state=0,\n",
    "                             n_estimators=50,\n",
    "                             n_jobs=8)\n",
    "scores = cross_val_score(model, X, y, cv = 3, \n",
    "                scoring = \"neg_mean_absolute_error\")\n",
    "np.mean(scores), np.std(scores)"
   ]
  },
  {
   "cell_type": "code",
   "execution_count": 57,
   "metadata": {},
   "outputs": [
    {
     "data": {
      "text/plain": [
       "(-48.41474324600096, 2.502571096240746)"
      ]
     },
     "execution_count": 57,
     "metadata": {},
     "output_type": "execute_result"
    }
   ],
   "source": [
    "# final\n",
    "feats = [\"number\", \"stop\", \"direction_cat\", \"vehicleId\", \n",
    "       \"seq_num\", \"num_dir_id\", \"stop_dir_id\"]\n",
    "X = df[feats].values\n",
    "y = df[\"delay_secs\"].values\n",
    "model = RandomForestRegressor(max_depth = 10,\n",
    "                             random_state=0,\n",
    "                             n_estimators=50,\n",
    "                             n_jobs=8)\n",
    "scores = cross_val_score(model, X, y, cv = 3, \n",
    "                scoring = \"neg_mean_absolute_error\")\n",
    "np.mean(scores), np.std(scores)"
   ]
  }
 ],
 "metadata": {
  "kernelspec": {
   "display_name": "Python 3",
   "language": "python",
   "name": "python3"
  },
  "language_info": {
   "codemirror_mode": {
    "name": "ipython",
    "version": 3
   },
   "file_extension": ".py",
   "mimetype": "text/x-python",
   "name": "python",
   "nbconvert_exporter": "python",
   "pygments_lexer": "ipython3",
   "version": "3.7.1"
  }
 },
 "nbformat": 4,
 "nbformat_minor": 2
}
